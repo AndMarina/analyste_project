{
  "cells": [
    {
      "cell_type": "code",
      "execution_count": 1,
      "metadata": {
        "colab": {
          "base_uri": "https://localhost:8080/"
        },
        "id": "YkF0q2Zcusah",
        "outputId": "b830fd09-e03f-4376-fbfa-427a07477a65"
      },
      "outputs": [
        {
          "name": "stdout",
          "output_type": "stream",
          "text": [
            "Collecting faker\n",
            "  Downloading Faker-23.2.1-py3-none-any.whl.metadata (15 kB)\n",
            "Requirement already satisfied: python-dateutil>=2.4 in c:\\users\\mi\\appdata\\local\\packages\\pythonsoftwarefoundation.python.3.11_qbz5n2kfra8p0\\localcache\\local-packages\\python311\\site-packages (from faker) (2.8.2)\n",
            "Requirement already satisfied: six>=1.5 in c:\\users\\mi\\appdata\\local\\packages\\pythonsoftwarefoundation.python.3.11_qbz5n2kfra8p0\\localcache\\local-packages\\python311\\site-packages (from python-dateutil>=2.4->faker) (1.16.0)\n",
            "Downloading Faker-23.2.1-py3-none-any.whl (1.7 MB)\n",
            "   ---------------------------------------- 0.0/1.7 MB ? eta -:--:--\n",
            "   ---------------------------------------- 0.0/1.7 MB ? eta -:--:--\n",
            "    --------------------------------------- 0.0/1.7 MB 653.6 kB/s eta 0:00:03\n",
            "   --- ------------------------------------ 0.1/1.7 MB 1.4 MB/s eta 0:00:02\n",
            "   ------ --------------------------------- 0.3/1.7 MB 2.2 MB/s eta 0:00:01\n",
            "   ----------- ---------------------------- 0.5/1.7 MB 3.3 MB/s eta 0:00:01\n",
            "   ---------------------- ----------------- 1.0/1.7 MB 4.9 MB/s eta 0:00:01\n",
            "   ---------------------------------------  1.7/1.7 MB 7.3 MB/s eta 0:00:01\n",
            "   ---------------------------------------  1.7/1.7 MB 7.3 MB/s eta 0:00:01\n",
            "   ---------------------------------------- 1.7/1.7 MB 6.2 MB/s eta 0:00:00\n",
            "Installing collected packages: faker\n",
            "Successfully installed faker-23.2.1\n",
            "Note: you may need to restart the kernel to use updated packages.\n"
          ]
        }
      ],
      "source": [
        "pip install faker"
      ]
    },
    {
      "cell_type": "code",
      "execution_count": 2,
      "metadata": {
        "colab": {
          "base_uri": "https://localhost:8080/"
        },
        "id": "cMiAXjl82Eql",
        "outputId": "f218c4eb-e1f9-48f8-fb64-7a6cdc6f324b"
      },
      "outputs": [
        {
          "name": "stdout",
          "output_type": "stream",
          "text": [
            "Collecting transliterate\n",
            "  Downloading transliterate-1.10.2-py2.py3-none-any.whl (45 kB)\n",
            "     ---------------------------------------- 0.0/45.8 kB ? eta -:--:--\n",
            "     ---------------- --------------------- 20.5/45.8 kB 330.3 kB/s eta 0:00:01\n",
            "     --------------------------------- ---- 41.0/45.8 kB 495.5 kB/s eta 0:00:01\n",
            "     -------------------------------------- 45.8/45.8 kB 455.6 kB/s eta 0:00:00\n",
            "Requirement already satisfied: six>=1.1.0 in c:\\users\\mi\\appdata\\local\\packages\\pythonsoftwarefoundation.python.3.11_qbz5n2kfra8p0\\localcache\\local-packages\\python311\\site-packages (from transliterate) (1.16.0)\n",
            "Installing collected packages: transliterate\n",
            "Successfully installed transliterate-1.10.2\n",
            "Note: you may need to restart the kernel to use updated packages.\n"
          ]
        }
      ],
      "source": [
        "pip install transliterate"
      ]
    },
    {
      "cell_type": "markdown",
      "metadata": {
        "id": "Du-ROwIVO6ik"
      },
      "source": [
        "Придумайте и создайте еще одну группу. В группе должно быть не менее 25 студентов, оценки и ФИО студентов должны быть осмысленные.\n",
        "Генерация случайных фио студентов и тд для базы данных"
      ]
    },
    {
      "cell_type": "code",
      "execution_count": 4,
      "metadata": {
        "colab": {
          "base_uri": "https://localhost:8080/"
        },
        "id": "bV7ZJnyBuVZY",
        "outputId": "1fd08dbe-46f1-4e3a-e42e-4aabfede9216"
      },
      "outputs": [
        {
          "name": "stdout",
          "output_type": "stream",
          "text": [
            "(899474, 'Рожков', 'Егор', 'Ефстафьевич', 'ИВТ-11', \"date('2004-06-27')\", 'erozhkov@miet.ru'),\n",
            "(899475, 'Симонов', 'Лука', 'Фомич', 'ИВТ-11', \"date('2004-12-01')\", 'lsimonov@miet.ru'),\n",
            "(899476, 'Овчинников', 'Ананий', 'Артурович', 'ИВТ-11', \"date('2003-09-02')\", 'aovchinnikov@miet.ru'),\n",
            "(899477, 'Голубев', 'Галактион', 'Филиппович', 'ИВТ-11', \"date('2003-05-04')\", 'ggolubev@miet.ru'),\n",
            "(899478, 'Миронов', 'Прокофий', 'Жоресович', 'ИВТ-11', \"date('2005-04-04')\", 'pmironov@miet.ru'),\n",
            "(899479, 'Сидоров', 'Давыд', 'Захарьевич', 'ИВТ-11', \"date('2003-09-02')\", 'dsidorov@miet.ru'),\n",
            "(899480, 'Козлов', 'Елисей', 'Юлианович', 'ИВТ-11', \"date('2001-09-10')\", 'ekozlov@miet.ru'),\n",
            "(899481, 'Кошелев', 'Варфоломей', 'Трофимович', 'ИВТ-11', \"date('2004-03-20')\", 'vkoshelev@miet.ru'),\n",
            "(899482, 'Ефимов', 'Азарий', 'Измаилович', 'ИВТ-11', \"date('2005-03-31')\", 'aefimov@miet.ru'),\n",
            "(899483, 'Беспалов', 'Елисей', 'Демидович', 'ИВТ-11', \"date('2004-05-24')\", 'ebespalov@miet.ru'),\n",
            "(899484, 'Захаров', 'Геннадий', 'Глебович', 'ИВТ-11', \"date('2002-07-24')\", 'gzaharov@miet.ru'),\n",
            "(899485, 'Петров', 'Ермолай', 'Ермолаевич', 'ИВТ-11', \"date('2003-10-02')\", 'epetrov@miet.ru'),\n",
            "(899486, 'Федоров', 'Андрон', 'Давидович', 'ИВТ-11', \"date('2004-03-30')\", 'afedorov@miet.ru'),\n",
            "(899487, 'Пономарев', 'Наркис', 'Артурович', 'ИВТ-11', \"date('2004-12-11')\", 'nponomarev@miet.ru'),\n",
            "(899488, 'Маслов', 'Савватий', 'Валерьянович', 'ИВТ-11', \"date('2001-07-08')\", 'smaslov@miet.ru'),\n",
            "(899489, 'Киселев', 'Гремислав', 'Елисеевич', 'ИВТ-11', \"date('2005-08-19')\", 'gkiselev@miet.ru'),\n",
            "(899490, 'Филатов', 'Трифон', 'Ильясович', 'ИВТ-11', \"date('2005-03-31')\", 'tfilatov@miet.ru'),\n",
            "(899491, 'Кузьмин', 'Денис', 'Анисимович', 'ИВТ-11', \"date('2004-03-16')\", \"dkuz'min@miet.ru\"),\n",
            "(899492, 'Карпов', 'Александр', 'Изотович', 'ИВТ-11', \"date('2003-06-20')\", 'akarpov@miet.ru'),\n",
            "(899493, 'Тимофеев', 'Любим', 'Владиленович', 'ИВТ-11', \"date('2004-10-18')\", 'ltimofeev@miet.ru'),\n",
            "(899494, 'Панова', 'Полина', 'Никифоровна', 'ИВТ-11', \"date('2005-09-13')\", 'ppanova@miet.ru'),\n",
            "(899495, 'Князева', 'Нинель', 'Тарасовна', 'ИВТ-11', \"date('2004-12-28')\", 'nknjazeva@miet.ru'),\n",
            "(899496, 'Тихонова', 'Марфа', 'Геннадиевна', 'ИВТ-11', \"date('2005-01-11')\", 'mtihonova@miet.ru'),\n",
            "(899497, 'Анисимова', 'Акулина', 'Юльевна', 'ИВТ-11', \"date('2005-10-24')\", 'aanisimova@miet.ru'),\n",
            "(899498, 'Блинова', 'Марина', 'Вячеславовна', 'ИВТ-11', \"date('2002-12-29')\", 'mblinova@miet.ru'),\n",
            "\n",
            "\n",
            "(899474, \"date('2023-08-31')\", \"date('2027-08-31')\"),\n",
            "(899475, \"date('2023-08-31')\", \"date('2027-08-31')\"),\n",
            "(899476, \"date('2023-08-31')\", \"date('2027-08-31')\"),\n",
            "(899477, \"date('2023-08-31')\", \"date('2027-08-31')\"),\n",
            "(899478, \"date('2023-08-31')\", \"date('2027-08-31')\"),\n",
            "(899479, \"date('2023-08-31')\", \"date('2027-08-31')\"),\n",
            "(899480, \"date('2023-08-31')\", \"date('2027-08-31')\"),\n",
            "(899481, \"date('2023-08-31')\", \"date('2027-08-31')\"),\n",
            "(899482, \"date('2023-08-31')\", \"date('2027-08-31')\"),\n",
            "(899483, \"date('2023-08-31')\", \"date('2027-08-31')\"),\n",
            "(899484, \"date('2023-08-31')\", \"date('2027-08-31')\"),\n",
            "(899485, \"date('2023-08-31')\", \"date('2027-08-31')\"),\n",
            "(899486, \"date('2023-08-31')\", \"date('2027-08-31')\"),\n",
            "(899487, \"date('2023-08-31')\", \"date('2027-08-31')\"),\n",
            "(899488, \"date('2023-08-31')\", \"date('2027-08-31')\"),\n",
            "(899489, \"date('2023-08-31')\", \"date('2027-08-31')\"),\n",
            "(899490, \"date('2023-08-31')\", \"date('2027-08-31')\"),\n",
            "(899491, \"date('2023-08-31')\", \"date('2027-08-31')\"),\n",
            "(899492, \"date('2023-08-31')\", \"date('2027-08-31')\"),\n",
            "(899493, \"date('2023-08-31')\", \"date('2027-08-31')\"),\n",
            "(899494, \"date('2023-08-31')\", \"date('2027-08-31')\"),\n",
            "(899495, \"date('2023-08-31')\", \"date('2027-08-31')\"),\n",
            "(899496, \"date('2023-08-31')\", \"date('2027-08-31')\"),\n",
            "(899497, \"date('2023-08-31')\", \"date('2027-08-31')\"),\n",
            "(899498, \"date('2023-08-31')\", \"date('2027-08-31')\"),\n",
            "\n",
            "\n",
            "(899474, '2004-06-27', 0),\n",
            "(899475, '2004-12-01', 0),\n",
            "(899476, '2003-09-02', 0),\n",
            "(899477, '2003-05-04', 0),\n",
            "(899478, '2005-04-04', 0),\n",
            "(899479, '2003-09-02', 0),\n",
            "(899480, '2001-09-10', 0),\n",
            "(899481, '2004-03-20', 0),\n",
            "(899482, '2005-03-31', 0),\n",
            "(899483, '2004-05-24', 0),\n",
            "(899484, '2002-07-24', 0),\n",
            "(899485, '2003-10-02', 0),\n",
            "(899486, '2004-03-30', 0),\n",
            "(899487, '2004-12-11', 0),\n",
            "(899488, '2001-07-08', 0),\n",
            "(899489, '2005-08-19', 0),\n",
            "(899490, '2005-03-31', 0),\n",
            "(899491, '2004-03-16', 0),\n",
            "(899492, '2003-06-20', 0),\n",
            "(899493, '2004-10-18', 0),\n",
            "(899494, '2005-09-13', 0),\n",
            "(899495, '2004-12-28', 0),\n",
            "(899496, '2005-01-11', 0),\n",
            "(899497, '2005-10-24', 0),\n",
            "(899498, '2002-12-29', 0),\n"
          ]
        }
      ],
      "source": [
        "\n",
        "from datetime import date\n",
        "from transliterate import translit\n",
        "from faker import Faker\n",
        "\n",
        "fake = Faker('ru_RU')\n",
        "fake.add_provider(\"faker.providers.person.Provider\")\n",
        "\n",
        "#список состоящий из кортежей личных данных для каждого студента\n",
        "students_list = []\n",
        "students_id_list = []\n",
        "users_list = []\n",
        "\n",
        "#начальный номер студенческого билета\n",
        "student_id = 899473\n",
        "\n",
        "#(student_id, surname, name, patronymic, students_group_number, birthday, email)\n",
        "#(student_id, issue_date, expiration_date)\n",
        "#(login, password, acess_level)\n",
        "for _ in range(20):\n",
        "    student_id = student_id + 1\n",
        "    full_name = fake.name()\n",
        "    surname = fake.last_name_male()\n",
        "    name = fake.first_name_male()\n",
        "    patronymic = fake.middle_name_male()\n",
        "    students_group_number = 'ИВТ-11'\n",
        "    birthday = fake.date_of_birth(minimum_age=18, maximum_age=22)\n",
        "    f_birthday = f\"date('{birthday.strftime('%Y-%m-%d')}')\"\n",
        "    password = f\"{birthday.strftime('%Y-%m-%d')}\"\n",
        "    email = translit(str(name[0]).lower(), language_code='ru', reversed=True) + translit(str(surname).lower(), language_code='ru', reversed=True) + '@miet.ru'\n",
        "\n",
        "    student_tuple = (student_id, surname, name, patronymic, students_group_number, f_birthday, email)\n",
        "    student_id_tuple = (student_id, \"date('2023-08-31')\", \"date('2027-08-31')\")\n",
        "    users_tuple = (student_id, password, 0)\n",
        "    students_list.append(student_tuple)\n",
        "    students_id_list.append(student_id_tuple)\n",
        "    users_list.append(users_tuple)\n",
        "\n",
        "for _ in range(5):\n",
        "    student_id = student_id + 1\n",
        "    full_name = fake.name()\n",
        "    surname = fake.last_name_female()\n",
        "    name = fake.first_name_female()\n",
        "    patronymic = fake.middle_name_female()\n",
        "    students_group_number = 'ИВТ-11'\n",
        "    birthday = fake.date_of_birth(minimum_age=18, maximum_age=22)\n",
        "    f_birthday = f\"date('{birthday.strftime('%Y-%m-%d')}')\"\n",
        "    password = f\"{birthday.strftime('%Y-%m-%d')}\"\n",
        "    email = translit(str(name[0]).lower(), language_code='ru', reversed=True) + translit(str(surname).lower(), language_code='ru', reversed=True) + '@miet.ru'\n",
        "\n",
        "    student_tuple = (student_id, surname, name, patronymic, students_group_number, f_birthday, email)\n",
        "    student_id_tuple = (student_id, \"date('2023-08-31')\", \"date('2027-08-31')\")\n",
        "    users_tuple = (student_id, password, 0)\n",
        "    students_list.append(student_tuple)\n",
        "    students_id_list.append(student_id_tuple)\n",
        "    users_list.append(users_tuple)\n",
        "\n",
        "for student in students_list:\n",
        "    print(f\"{student},\")\n",
        "print('\\n')\n",
        "for student_id in students_id_list:\n",
        "    print(f\"{student_id},\")\n",
        "print('\\n')\n",
        "for users in users_list:\n",
        "    print(f\"{users},\")"
      ]
    }
  ],
  "metadata": {
    "colab": {
      "provenance": []
    },
    "kernelspec": {
      "display_name": "Python 3",
      "name": "python3"
    },
    "language_info": {
      "codemirror_mode": {
        "name": "ipython",
        "version": 3
      },
      "file_extension": ".py",
      "mimetype": "text/x-python",
      "name": "python",
      "nbconvert_exporter": "python",
      "pygments_lexer": "ipython3",
      "version": "3.11.8"
    }
  },
  "nbformat": 4,
  "nbformat_minor": 0
}
