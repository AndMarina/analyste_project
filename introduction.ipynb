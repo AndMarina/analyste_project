{
 "cells": [
  {
   "cell_type": "code",
   "execution_count": 1,
   "metadata": {},
   "outputs": [],
   "source": [
    "# TODO:\n",
    "# разбиение на кластеры (групповая выборка)\n",
    "# построение графика примера номинативной переменной (Occupation)\n",
    "# построение графика примера ранговой переменной\n",
    "# построение графика примера дискретной переменной (Num_Bank_Accounts)\n",
    "# попробуем ручками посчитать моду, медиану и среднее (собственные функции)\n",
    "# демонстрация св-в среднего\n",
    "# меры изменчивости\n",
    "# расписать для чего нужна каждая библиотека\n"
   ]
  },
  {
   "cell_type": "markdown",
   "metadata": {},
   "source": [
    "# 1 Введение  \n",
    "## 1.2 Генеральная совокупность и выборка.\n",
    "- Генеральная совокупность (ГС) — совокупность всех объектов, относительно которых предполагается делать выводы при изучении конкретной задачи\n",
    "- Репрезентативная выборка – это такая выборка, в которой все основные признаки генеральной совокупности, из которой извлечена данная выборка, представлены приблизительно в той же пропорции или с той же частотой, с которой данный признак выступает в этой генеральной совокупности\n",
    "\n",
    "Способы формирования выборки\n",
    "- простая случайная выборка (simple random sample)\n",
    "- стратифицированная выборка (stratified sample) \n",
    "    - разбивка ГС на различные по своей природе страты (группы элементов, которые различаются между собой по определенным признакам)\n",
    "    - выбор набора элементов из каждой страты\n",
    "-  групповая выборка (cluster sample)\n",
    "    - разбивка ГС на кластеры (группы элементов, которые очень похожи между собой)\n",
    "    - выбор нескольких целых кластеров\t\n",
    "\n",
    "| групповая выборка | стратифицированная выборка |\n",
    "|---------------------|---------------------|\n",
    "| Выборка формируется только из нескольких субпопуляций (кластеров)  | Выборка формируется из всех субпопуляций (страт) |\n",
    "| В пределах кластера элементы должны быть разнородны, тогда как между разными кластерам поддерживается однородность или схожесть| В пределах страты элементы должны быть однородны, а между стратами должна быть разнородность (различия)|\n",
    "| Схема выборки нужна только для кластеров, попавших в выборку | Должна быть сформирована полная схема выборки для всех стратифицированных субпопуляций |\n",
    "| Повышает эффективность выборки, уменьшая стоимость | Повышает точность |"
   ]
  },
  {
   "cell_type": "code",
   "execution_count": 53,
   "metadata": {},
   "outputs": [],
   "source": [
    "# подключение библиотек\n",
    "\n",
    "from fractions import Fraction # работа с рациональными числами (в виде обыкновенной дроби)\n",
    "import random                  # генерация случайных значений\n",
    "import pandas as pd            # для работы с данными\n",
    "import numpy as np\n",
    "import scipy\n",
    "\n",
    "# Для построения графиков\n",
    "import matplotlib.pyplot as plt\n",
    "import matplotlib\n",
    "\n",
    "import seaborn as sns\n"
   ]
  },
  {
   "cell_type": "code",
   "execution_count": 8,
   "metadata": {},
   "outputs": [
    {
     "name": "stdout",
     "output_type": "stream",
     "text": [
      "[-307, -687, 178, -341, -355, 744, -125, -407, 619, 728]\n"
     ]
    }
   ],
   "source": [
    "# формирование массива рациональных чисел - назовем ее генеральная совокупность\n",
    "\n",
    "array_number = []\n",
    "n = 10000                      # кол-во чисел в генеральной совокупности\n",
    "limit = 1000                   # верхний и нижний предел значений чисел в генеральной совокупности \n",
    "\n",
    "for i in range(n):\n",
    "    array_number.append(random.randint(-limit, limit))\n",
    "\n",
    "print(array_number[:10])       # вывод первых 10 чисел для примера"
   ]
  },
  {
   "cell_type": "code",
   "execution_count": 9,
   "metadata": {},
   "outputs": [
    {
     "name": "stdout",
     "output_type": "stream",
     "text": [
      "Случайная выборка(1000 элементов) из генеральной совокупности: \n",
      " [-138, -673, -932, -654, 915, 332, -676, 535, 75, 730, 658, -135, 932, 669, -325, -777, 732, 92, 550, 304, -521, -854, -521, -611, -78, -829, -469, -850, -702, 702, -667, -252, -477, 461, 883, 408, -718, -272, 790, -622, 112, -178, -939, -811, -790, 649, -913, -366, 905, -809, -587, 719, 647, -72, 372, -986, 182, 829, -201, 669, 908, 472, -63, 725, -954, 756, 445, -676, -351, -411, 6, -130, -882, 757, 599, -276, -595, -356, 557, -219, -344, 221, 567, 490, -410, 224, 540, -191, -638, -564, -189, -506, -97, 9, -984, -388, 852, 336, -744, -327, 30, -600, -453, -236, -612, 126, 714, 618, 446, -204, 564, 280, -14, -162, -618, 136, 547, 536, -358, 784, -568, 377, -380, 750, -612, -206, -361, -498, -94, 362, 641, -568, -461, 63, -399, -134, -900, 569, 912, -509, 428, -134, 570, -753, -463, 125, -342, -236, 157, -336, -233, -347, -1000, -766, 459, -81, 496, 927, -964, 865, -603, 334, -226, -307, 131, -573, 611, -447, 925, -607, -958, 19, -909, 732, 156, 534, 527, -200, 87, 901, 616, -271, -433, -669, 348, 793, -452, -65, 720, 702, -796, -263, -652, 945, -344, -846, -720, -428, 53, -144, -949, -161, 587, 93, 787, -381, -963, -811, 146, 111, -120, -802, -760, -121, 546, 865, 361, -540, 674, -490, 914, 18, 425, -15, -464, 87, 776, 619, 658, 153, -567, -289, -690, 891, -9, 400, 235, -389, -402, 358, -16, 300, 156, 174, 421, -116, -299, -267, -201, 416, -612, -41, -164, -850, -601, -609, 122, -793, -636, -748, 886, -635, 757, -45, -616, -955, 34, -395, 474, 62, -791, 297, 711, 977, 359, 400, 321, 430, 265, 777, 587, 484, -889, 608, 799, 108, -971, 268, -128, 265, 827, 211, 954, 413, 229, -649, 153, 0, -940, -441, -578, 918, 771, -565, 546, -511, 258, -145, -196, -425, 34, 953, 883, -11, -182, -261, -860, 487, -524, -88, -537, -203, 105, 690, 211, -92, -222, 352, -264, 731, -848, 968, -522, 41, 948, -229, 485, 616, 735, 621, 303, -150, -403, -586, 677, -953, -536, 829, -800, 840, -790, 932, -493, -886, -566, -263, -239, 453, -328, 56, -759, -279, 502, 236, 137, -728, 396, -331, -936, 842, 702, -642, 589, -582, -243, 408, -888, 136, 682, -771, 448, 467, -530, -576, 384, 11, -109, 883, 794, 362, -20, -130, 736, -388, 200, 496, 725, 118, -609, 605, 257, -781, 811, -647, 459, 134, 149, -612, -31, -951, -987, -44, -877, 385, 177, -688, 630, 416, 156, 120, 343, 642, -923, 795, 709, -321, 967, -252, 902, 137, -342, -594, 795, 33, -444, -650, -723, 20, 551, 929, -380, 307, -214, 635, 129, -402, -677, 794, 140, 380, 799, 686, -225, 625, 848, 598, -895, 7, -170, 820, -565, -676, -993, -292, 685, 360, 996, -752, -37, -50, 281, -819, 241, -886, -632, 694, -995, 80, 890, 610, -564, -475, -525, -138, 748, -522, 569, 53, -182, -487, -93, -971, -362, 94, -632, -115, 361, 677, 706, -37, -494, -178, 371, -372, -881, -111, -578, 896, 881, 60, -729, 656, 35, 310, 328, -516, 528, -774, 355, -379, 591, 319, -90, 445, -67, 428, 854, 916, 556, 770, -305, 5, 543, -724, -996, -70, -432, -381, -267, 379, 980, 271, -117, 872, -82, 593, -783, 0, -230, 391, 47, -480, -706, 563, 826, 166, -9, 692, -794, -267, -840, -830, -291, 588, 825, -142, -283, 494, -300, 916, -715, -154, 998, -555, -938, 876, 130, 607, -469, 502, -731, -42, -149, -713, -129, 343, 20, 537, 812, 208, -566, -445, 448, 385, 275, -182, -703, 969, -585, -275, -518, -974, -363, 142, 504, -252, -214, -89, -9, -756, 763, -32, -236, 860, 390, 372, -841, -680, 612, 849, -858, 819, -631, -898, 24, 232, 736, -670, 539, -974, 212, 261, 439, 184, 631, -3, 172, 879, 638, 257, 903, -285, 921, 741, -743, 822, -972, 526, 44, 130, -88, -983, 663, 313, 988, 955, 469, -579, -177, 992, -274, -53, -53, -248, 543, 403, 207, 46, -643, 862, 969, 802, -758, 720, 551, -594, -36, 559, 18, -744, 488, -672, 645, -402, -208, -958, -451, -725, 978, -825, -514, -819, -556, -766, -660, -262, -68, 728, -823, -411, 874, 118, -552, 728, -925, 55, 526, 256, -854, 3, -218, 247, -53, 187, -980, 948, 728, 463, -628, 450, -383, -896, -893, 558, 494, 486, 538, 363, -725, -541, -117, 469, 976, -120, 678, -439, -893, 18, -208, 752, 408, 176, 288, 882, 145, -799, -863, -234, 648, -561, 605, 982, -942, -371, -803, -667, 798, -742, -571, 4, -561, -708, 973, 581, 807, 808, -97, -811, 767, -767, -505, 506, 994, 445, 885, -762, -687, -514, 645, -261, 645, -75, -744, 202, -534, -396, 213, 687, 684, 263, 590, -510, 542, 812, 181, 83, -61, 997, 829, -606, -736, -649, 281, 170, 772, -51, -263, -254, 129, 607, -191, 551, 910, 795, 923, -376, 169, -871, 149, -423, -200, -329, 336, -961, -949, -337, -834, 416, 993, -517, 930, -364, 442, -530, 487, 770, 122, 317, -552, 399, 121, -806, -782, -802, -675, 901, -503, 463, 463, 789, -423, -470, 273, -149, -396, 235, 824, -707, -739, -419, -645, 540, 405, -463, -813, -839, -636, 453, -90, 962, 82, -543, 91, -692, 910, -713, -275, 96, 528, -194, -836, 458, 529, 365, 255, 680, 904, 133, -9, 604, -774, -645, 244, -332, 196, 658, -396, 421, -74, -92, -522, 319, 388, 52, -352, 976, 111, -810, -319, -915, 962, 344, 970, 775, -743, 184, -205, -498, -771, -386, -624, 867, -743, 87, -578, 417, -744, 948, 442, -774, -914, 399, -353, 489, 77, -524, -485, -622, -433, 961, -893, 217, -133, 132, -516, 88, 871, 673, 545, -212, 150, 318, -407, -178, -404, -653, -72, 571, -92, 213, -39, -438, 380, 999, -974, -360, 695, -979, -993, -160, 945, 671, 188, 837, 247, 230, -817, -75, 167, -322, 127, -393, -55, 208, -314, 633, 816, -833, 323, 365, -662, 994, -256, -250, -30, -705, -502, -637, -169, -589]\n"
     ]
    }
   ],
   "source": [
    "# формирование простой случайной выборки\n",
    "\n",
    "# sample - возвращает случайно выбранные элементы из этой последовательности без повторений\n",
    "sample_size = 1000\n",
    "random_sample = random.sample(array_number, sample_size) \n",
    "\n",
    "print(\"Случайная выборка ({} элементов) из генеральной совокупности: \\n\".format(sample_size), random_sample)"
   ]
  },
  {
   "cell_type": "code",
   "execution_count": 15,
   "metadata": {},
   "outputs": [
    {
     "name": "stdout",
     "output_type": "stream",
     "text": [
      "Стратифицированная выборка (1000 элементов) из рациональных чисел:\n",
      " [65, 949, 595, 448, 155, 472, 298, 945, 461, 577, 817, 483, 692, 623, 352, 785, 518, 324, 642, 268, 680, 880, 516, 861, 693, 98, 769, 623, 717, 446, 844, 551, 119, 888, 190, 998, 444, 161, 969, 426, 780, 590, 220, 766, 321, 734, 206, 237, 245, 18, 279, 359, 814, 129, 22, 495, 385, 734, 321, 408, 100, 344, 980, 148, 122, 982, 420, 736, 115, 286, 58, 447, 727, 322, 591, 520, 653, 303, 484, 795, 725, 824, 515, 222, 518, 83, 47, 671, 985, 992, 54, 94, 289, 33, 80, 955, 338, 103, 545, 150, 125, 156, 970, 636, 173, 539, 78, 299, 622, 11, 754, 576, 511, 933, 470, 840, 992, 912, 279, 17, 149, 9, 185, 678, 32, 540, 758, 196, 360, 472, 43, 457, 301, 334, 243, 192, 379, 637, 688, 188, 605, 643, 355, 884, 281, 430, 791, 217, 53, 787, 459, 855, 575, 161, 632, 61, 720, 228, 999, 91, 537, 352, 908, 3, 828, 195, 282, 225, 137, 117, 196, 539, 596, 379, 745, 591, 914, 737, 69, 652, 308, 403, 511, 760, 841, 674, 288, 678, 316, 235, 664, 671, 76, 385, 589, 685, 874, 851, 962, 730, 582, 609, 812, 331, 815, 630, 922, 947, 78, 733, 764, 529, 506, 678, 424, 59, 759, 19, 361, 239, 136, 827, 732, 539, 414, 636, 786, 593, 383, 686, 588, 586, 807, 41, 514, 129, 658, 249, 704, 610, 714, 103, 684, 706, 483, 217, 239, 451, 618, 725, 78, 312, 872, 42, 599, 413, 9, 266, 125, 312, 192, 698, 333, 536, 378, 562, 676, 673, 122, 865, 211, 565, 784, 262, 471, 749, 904, 271, 285, 247, 56, 183, 897, 248, 741, 44, 429, 775, 120, 735, 559, 675, 290, 402, 332, 351, 5, 36, 682, 382, 348, 203, 835, 0, 20, 299, 920, 341, 196, 523, 589, 100, 92, 697, 720, 329, 85, 91, 31, 423, 845, 68, 928, 648, 399, 911, 424, 625, 691, 0, 878, 795, 170, 714, 753, 631, 64, 68, 551, 568, 844, 408, 758, 55, 655, 432, 303, 154, 932, 700, 305, 234, 37, 42, 354, 401, 669, 714, 74, 134, 449, 504, 327, 285, 63, 939, 823, 36, 793, 442, 911, 97, 592, 283, 126, 348, 179, 187, 47, 974, 478, 678, 814, 700, 223, 256, 308, 698, 639, 489, 745, 231, 887, 723, 989, 61, 730, 499, 908, 541, 549, 239, 15, 840, 305, 122, 660, 976, 674, 619, 169, 953, 143, 255, 793, 595, 447, 645, 318, 313, 127, 381, 621, 365, 775, 252, 271, 87, 633, 900, 387, 908, 914, 487, 431, 44, 944, 298, 923, 981, 37, 274, 869, 43, 176, 872, 680, 697, 27, 270, 445, 489, 706, 719, 901, 938, 312, 518, 854, 120, 980, 557, 400, 615, 215, 544, 44, 36, 336, 950, 656, 83, 121, 452, 790, 148, 349, 126, 479, 113, 56, 754, 745, 29, 913, 971, 214, 486, 690, 93, 613, 448, 930, 262, 702, 187, 960, 69, 502, 178, -371, -212, -13, -380, -450, -487, -579, -362, -381, -488, -188, -338, -799, -908, -604, -795, -8, -629, -516, -262, -993, -698, -841, -199, -962, -614, -545, -237, -291, -15, -309, -12, -426, -201, -482, -527, -601, -154, -284, -671, -44, -10, -150, -558, -278, -776, -865, -92, -879, -21, -284, -829, -246, -17, -703, -889, -860, -356, -766, -217, -812, -838, -180, -954, -577, -622, -318, -218, -636, -242, -181, -968, -944, -344, -173, -316, -940, -352, -975, -194, -568, -248, -194, -537, -784, -79, -61, -886, -530, -489, -281, -530, -566, -549, -900, -294, -170, -638, -117, -529, -214, -902, -56, -200, -586, -90, -169, -491, -476, -144, -309, -772, -554, -542, -60, -654, -524, -309, -823, -348, -424, -322, -11, -976, -122, -250, -28, -84, -710, -459, -1000, -582, -388, -328, -770, -121, -849, -877, -670, -245, -864, -755, -65, -168, -847, -402, -423, -657, -239, -729, -565, -487, -207, -970, -669, -381, -940, -660, -381, -529, -963, -891, -432, -74, -819, -111, -949, -141, -339, -438, -639, -862, -418, -513, -7, -779, -128, -969, -307, -857, -443, -29, -969, -172, -897, -730, -80, -974, -325, -715, -981, -835, -170, -555, -793, -278, -713, -636, -983, -302, -282, -616, -149, -484, -443, -343, -2, -957, -254, -876, -567, -143, -920, -66, -530, -212, -625, -653, -480, -212, -110, -816, -301, -526, -282, -536, -204, -968, -30, -467, -64, -201, -126, -26, -44, -528, -555, -249, -325, -659, -455, -982, -916, -826, -353, -832, -708, -458, -756, -986, -882, -693, -61, -475, -998, -228, -660, -680, -549, -495, -228, -453, -501, -18, -564, -791, -265, -862, -165, -115, -546, -662, -666, -970, -63, -930, -114, -401, -675, -115, -94, -509, -968, -717, -688, -231, -927, -718, -460, -599, -417, -24, -476, -350, -845, -648, -106, -30, -878, -958, -88, -589, -361, -39, -706, -993, -106, -893, -253, -684, -838, -492, -113, -648, -815, -831, -9, -719, -119, -436, -492, -565, -871, -773, -885, -150, -211, -990, -740, -592, -68, -435, -756, -194, -225, -728, -895, -853, -880, -201, -5, -582, -732, -229, -547, -952, -308, -839, -565, -567, -335, -51, -359, -108, -371, -13, -444, -898, -255, -728, -28, -194, -543, -511, -775, -138, -833, -241, -531, -477, -215, -746, -364, -265, -300, -526, -662, -957, -893, -84, -572, -524, -277, -170, -280, -25, -433, -607, -90, -344, -622, -560, -81, -626, -520, -211, -312, -459, -163, -262, -212, -196, -896, -422, -668, -91, -846, -363, -942, -165, -323, -274, -261, -719, -939, -926, -979, -710, -679, -88, -8, -598, -124, -13, -22, -797, -627, -798, -467, -161, -96, -926, -372, -112, -679, -401, -163, -375, -268, -623, -235, -92, -893, -846, -432, -70, -706, -978, -228, -729, -911, -887, -822, -677, -274, -163, -31, -39, -690, -736, -54, -898, -231, -177, -960, -107, -385, -981, -522, -594, -129, -27, -925, -886, -886, -147, -259, -908, -814, -856, -190, -379, -857, -990, -498, -310, -262, -422, -827, -723, -330, -104, -812, -630, -847, -904, -996, -997, -273, -433]\n"
     ]
    }
   ],
   "source": [
    "# формирование стратифицированной выборки\n",
    "# разобьем на две страты (отрицательные и неотрицаткльные числа)\n",
    "\n",
    "strata = [[x for x in array_number if x >= 0], [x for x in array_number if x < 0]]\n",
    "\n",
    "sample_size_per_stratum = 500 # размер выборки из каждой страты\n",
    "strata_size = 2               # кол-во страт\n",
    "\n",
    "# Формирование стратифицированной выборки\n",
    "stratified_sample = []\n",
    "for stratum in strata:\n",
    "    stratified_sample.extend(random.sample(stratum, sample_size_per_stratum))\n",
    "\n",
    "# Вывод стратифицированной выборки\n",
    "print(\"Стратифицированная выборка ({} элементов) из рациональных чисел:\\n\"format(sample_size_per_stratum * strata_size), stratified_sample)"
   ]
  },
  {
   "cell_type": "code",
   "execution_count": null,
   "metadata": {},
   "outputs": [],
   "source": [
    "# формирование групповой выборки (кластеры)"
   ]
  },
  {
   "cell_type": "markdown",
   "metadata": {},
   "source": [
    "Характеристики генеральной совокупности:\n",
    "- Количественные - измеряемые\n",
    "    - непрерывные\n",
    "    - дискретные\n",
    "- Качественные (номинативные) - разделение испытуемых на группы, цифры как маркеры (например: 1 -женщины, 2 – мужчины)  Цифры как имена групп, не для расчетов \n",
    "- Ранговые - похоже на номинативные, показатель для сравнения (быстрее/медленнее и т п.)\n",
    "\n",
    "**Описательная статистика** - раздел статистики, который описывает и систематизирует основные характеристики данных путем использования различных методов, графиков и числовых показателей. \n",
    "Цель описательной статистики - предоставить краткое и информативное описание набора данных, чтобы лучше понять их распределение, центральные тенденции, разброс и другие важные свойства.\n",
    "\n",
    "**Гистограмма частот** - это графическое представление распределения частоты встречаемости значений в наборе данных."
   ]
  },
  {
   "cell_type": "markdown",
   "metadata": {},
   "source": [
    "_Предлагаю для интереса начать исследовать набор реальных данных, поэтому дальше я буду работать с данными о кредитной истории различных людей_ "
   ]
  },
  {
   "cell_type": "code",
   "execution_count": 9,
   "metadata": {},
   "outputs": [
    {
     "data": {
      "text/html": [
       "<div>\n",
       "<style scoped>\n",
       "    .dataframe tbody tr th:only-of-type {\n",
       "        vertical-align: middle;\n",
       "    }\n",
       "\n",
       "    .dataframe tbody tr th {\n",
       "        vertical-align: top;\n",
       "    }\n",
       "\n",
       "    .dataframe thead th {\n",
       "        text-align: right;\n",
       "    }\n",
       "</style>\n",
       "<table border=\"1\" class=\"dataframe\">\n",
       "  <thead>\n",
       "    <tr style=\"text-align: right;\">\n",
       "      <th></th>\n",
       "      <th>ID</th>\n",
       "      <th>Customer_ID</th>\n",
       "      <th>Month</th>\n",
       "      <th>Name</th>\n",
       "      <th>Age</th>\n",
       "      <th>SSN</th>\n",
       "      <th>Occupation</th>\n",
       "      <th>Annual_Income</th>\n",
       "      <th>Monthly_Inhand_Salary</th>\n",
       "      <th>Num_Bank_Accounts</th>\n",
       "      <th>...</th>\n",
       "      <th>Credit_Mix</th>\n",
       "      <th>Outstanding_Debt</th>\n",
       "      <th>Credit_Utilization_Ratio</th>\n",
       "      <th>Credit_History_Age_Months</th>\n",
       "      <th>Payment_of_Min_Amount</th>\n",
       "      <th>Total_EMI_per_month</th>\n",
       "      <th>Amount_invested_monthly</th>\n",
       "      <th>Payment_Behaviour</th>\n",
       "      <th>Monthly_Balance</th>\n",
       "      <th>Credit_Score</th>\n",
       "    </tr>\n",
       "  </thead>\n",
       "  <tbody>\n",
       "    <tr>\n",
       "      <th>0</th>\n",
       "      <td>0x160f</td>\n",
       "      <td>CUS_0x21b1</td>\n",
       "      <td>February</td>\n",
       "      <td>Rick Rothackerj</td>\n",
       "      <td>28</td>\n",
       "      <td>004-07-5839</td>\n",
       "      <td>Teacher</td>\n",
       "      <td>34847.84</td>\n",
       "      <td>3037.986667</td>\n",
       "      <td>2</td>\n",
       "      <td>...</td>\n",
       "      <td>Good</td>\n",
       "      <td>605.03</td>\n",
       "      <td>38.550848</td>\n",
       "      <td>320</td>\n",
       "      <td>No</td>\n",
       "      <td>18.816215</td>\n",
       "      <td>40.391238</td>\n",
       "      <td>High_spent_Large_value_payments</td>\n",
       "      <td>484.591214</td>\n",
       "      <td>Good</td>\n",
       "    </tr>\n",
       "    <tr>\n",
       "      <th>1</th>\n",
       "      <td>0x1612</td>\n",
       "      <td>CUS_0x21b1</td>\n",
       "      <td>May</td>\n",
       "      <td>Rick Rothackerj</td>\n",
       "      <td>28</td>\n",
       "      <td>004-07-5839</td>\n",
       "      <td>Teacher</td>\n",
       "      <td>34847.84</td>\n",
       "      <td>3037.986667</td>\n",
       "      <td>2</td>\n",
       "      <td>...</td>\n",
       "      <td>Good</td>\n",
       "      <td>605.03</td>\n",
       "      <td>34.977895</td>\n",
       "      <td>323</td>\n",
       "      <td>No</td>\n",
       "      <td>18.816215</td>\n",
       "      <td>130.115420</td>\n",
       "      <td>Low_spent_Small_value_payments</td>\n",
       "      <td>444.867032</td>\n",
       "      <td>Good</td>\n",
       "    </tr>\n",
       "    <tr>\n",
       "      <th>2</th>\n",
       "      <td>0x1613</td>\n",
       "      <td>CUS_0x21b1</td>\n",
       "      <td>June</td>\n",
       "      <td>Rick Rothackerj</td>\n",
       "      <td>28</td>\n",
       "      <td>004-07-5839</td>\n",
       "      <td>Teacher</td>\n",
       "      <td>34847.84</td>\n",
       "      <td>3037.986667</td>\n",
       "      <td>2</td>\n",
       "      <td>...</td>\n",
       "      <td>Good</td>\n",
       "      <td>605.03</td>\n",
       "      <td>33.381010</td>\n",
       "      <td>324</td>\n",
       "      <td>No</td>\n",
       "      <td>18.816215</td>\n",
       "      <td>43.477190</td>\n",
       "      <td>High_spent_Large_value_payments</td>\n",
       "      <td>481.505262</td>\n",
       "      <td>Good</td>\n",
       "    </tr>\n",
       "    <tr>\n",
       "      <th>3</th>\n",
       "      <td>0x1615</td>\n",
       "      <td>CUS_0x21b1</td>\n",
       "      <td>August</td>\n",
       "      <td>Rick Rothackerj</td>\n",
       "      <td>28</td>\n",
       "      <td>004-07-5839</td>\n",
       "      <td>Teacher</td>\n",
       "      <td>34847.84</td>\n",
       "      <td>3037.986667</td>\n",
       "      <td>2</td>\n",
       "      <td>...</td>\n",
       "      <td>Good</td>\n",
       "      <td>605.03</td>\n",
       "      <td>32.933856</td>\n",
       "      <td>326</td>\n",
       "      <td>No</td>\n",
       "      <td>18.816215</td>\n",
       "      <td>218.904344</td>\n",
       "      <td>Low_spent_Small_value_payments</td>\n",
       "      <td>356.078109</td>\n",
       "      <td>Good</td>\n",
       "    </tr>\n",
       "    <tr>\n",
       "      <th>4</th>\n",
       "      <td>0x1626</td>\n",
       "      <td>CUS_0xb891</td>\n",
       "      <td>January</td>\n",
       "      <td>Jasond</td>\n",
       "      <td>54</td>\n",
       "      <td>072-31-6145</td>\n",
       "      <td>Entrepreneur</td>\n",
       "      <td>30689.89</td>\n",
       "      <td>2612.490833</td>\n",
       "      <td>2</td>\n",
       "      <td>...</td>\n",
       "      <td>Good</td>\n",
       "      <td>632.46</td>\n",
       "      <td>26.544229</td>\n",
       "      <td>207</td>\n",
       "      <td>No</td>\n",
       "      <td>16.415452</td>\n",
       "      <td>81.228859</td>\n",
       "      <td>Low_spent_Large_value_payments</td>\n",
       "      <td>433.604773</td>\n",
       "      <td>Standard</td>\n",
       "    </tr>\n",
       "  </tbody>\n",
       "</table>\n",
       "<p>5 rows × 28 columns</p>\n",
       "</div>"
      ],
      "text/plain": [
       "       ID Customer_ID     Month             Name  Age          SSN  \\\n",
       "0  0x160f  CUS_0x21b1  February  Rick Rothackerj   28  004-07-5839   \n",
       "1  0x1612  CUS_0x21b1       May  Rick Rothackerj   28  004-07-5839   \n",
       "2  0x1613  CUS_0x21b1      June  Rick Rothackerj   28  004-07-5839   \n",
       "3  0x1615  CUS_0x21b1    August  Rick Rothackerj   28  004-07-5839   \n",
       "4  0x1626  CUS_0xb891   January           Jasond   54  072-31-6145   \n",
       "\n",
       "     Occupation  Annual_Income  Monthly_Inhand_Salary  Num_Bank_Accounts  ...  \\\n",
       "0       Teacher       34847.84            3037.986667                  2  ...   \n",
       "1       Teacher       34847.84            3037.986667                  2  ...   \n",
       "2       Teacher       34847.84            3037.986667                  2  ...   \n",
       "3       Teacher       34847.84            3037.986667                  2  ...   \n",
       "4  Entrepreneur       30689.89            2612.490833                  2  ...   \n",
       "\n",
       "   Credit_Mix  Outstanding_Debt  Credit_Utilization_Ratio  \\\n",
       "0        Good            605.03                 38.550848   \n",
       "1        Good            605.03                 34.977895   \n",
       "2        Good            605.03                 33.381010   \n",
       "3        Good            605.03                 32.933856   \n",
       "4        Good            632.46                 26.544229   \n",
       "\n",
       "  Credit_History_Age_Months  Payment_of_Min_Amount  Total_EMI_per_month  \\\n",
       "0                       320                     No            18.816215   \n",
       "1                       323                     No            18.816215   \n",
       "2                       324                     No            18.816215   \n",
       "3                       326                     No            18.816215   \n",
       "4                       207                     No            16.415452   \n",
       "\n",
       "   Amount_invested_monthly                Payment_Behaviour Monthly_Balance  \\\n",
       "0                40.391238  High_spent_Large_value_payments      484.591214   \n",
       "1               130.115420   Low_spent_Small_value_payments      444.867032   \n",
       "2                43.477190  High_spent_Large_value_payments      481.505262   \n",
       "3               218.904344   Low_spent_Small_value_payments      356.078109   \n",
       "4                81.228859   Low_spent_Large_value_payments      433.604773   \n",
       "\n",
       "   Credit_Score  \n",
       "0          Good  \n",
       "1          Good  \n",
       "2          Good  \n",
       "3          Good  \n",
       "4      Standard  \n",
       "\n",
       "[5 rows x 28 columns]"
      ]
     },
     "execution_count": 9,
     "metadata": {},
     "output_type": "execute_result"
    }
   ],
   "source": [
    "# загрузка данных из файла XLSX\n",
    "df = pd.read_excel('CreditScoreData.xlsx')\n",
    "\n",
    "# вывод данных\n",
    "df.head()  #df.tail()"
   ]
  },
  {
   "cell_type": "code",
   "execution_count": 17,
   "metadata": {},
   "outputs": [
    {
     "name": "stdout",
     "output_type": "stream",
     "text": [
      "Количество строк 23929, количество уникальных строк 10982\n",
      "\n",
      "<class 'pandas.core.frame.DataFrame'>\n",
      "RangeIndex: 23929 entries, 0 to 23928\n",
      "Data columns (total 28 columns):\n",
      " #   Column                     Non-Null Count  Dtype  \n",
      "---  ------                     --------------  -----  \n",
      " 0   ID                         23929 non-null  object \n",
      " 1   Customer_ID                23929 non-null  object \n",
      " 2   Month                      23929 non-null  object \n",
      " 3   Name                       23929 non-null  object \n",
      " 4   Age                        23929 non-null  int64  \n",
      " 5   SSN                        23929 non-null  object \n",
      " 6   Occupation                 23929 non-null  object \n",
      " 7   Annual_Income              23929 non-null  float64\n",
      " 8   Monthly_Inhand_Salary      23929 non-null  float64\n",
      " 9   Num_Bank_Accounts          23929 non-null  int64  \n",
      " 10  Num_Credit_Card            23929 non-null  int64  \n",
      " 11  Interest_Rate              23929 non-null  int64  \n",
      " 12  Num_of_Loan                23929 non-null  int64  \n",
      " 13  Type_of_Loan               21403 non-null  object \n",
      " 14  Delay_from_due_date        23929 non-null  int64  \n",
      " 15  Num_of_Delayed_Payment     23929 non-null  int64  \n",
      " 16  Changed_Credit_Limit       23929 non-null  float64\n",
      " 17  Num_Credit_Inquiries       23929 non-null  int64  \n",
      " 18  Credit_Mix                 23929 non-null  object \n",
      " 19  Outstanding_Debt           23929 non-null  float64\n",
      " 20  Credit_Utilization_Ratio   23929 non-null  float64\n",
      " 21  Credit_History_Age_Months  23929 non-null  int64  \n",
      " 22  Payment_of_Min_Amount      23929 non-null  object \n",
      " 23  Total_EMI_per_month        23929 non-null  float64\n",
      " 24  Amount_invested_monthly    23929 non-null  float64\n",
      " 25  Payment_Behaviour          23929 non-null  object \n",
      " 26  Monthly_Balance            23929 non-null  float64\n",
      " 27  Credit_Score               23929 non-null  object \n",
      "dtypes: float64(8), int64(9), object(11)\n",
      "memory usage: 5.1+ MB\n"
     ]
    },
    {
     "data": {
      "text/plain": [
       "(23929, 28)"
      ]
     },
     "execution_count": 17,
     "metadata": {},
     "output_type": "execute_result"
    }
   ],
   "source": [
    "print('Количество строк {}, количество уникальных строк {}\\n'.format(len(df), df['Monthly_Inhand_Salary'].nunique()))\n",
    "\n",
    "df.info() # df.dtypes - возвращает тип данных каждого столбца\n",
    "df.shape # возвращает кортеж, показывающий количество строк и столбцов в датафрейме"
   ]
  },
  {
   "cell_type": "code",
   "execution_count": 18,
   "metadata": {},
   "outputs": [
    {
     "data": {
      "text/plain": [
       "ID                              0\n",
       "Customer_ID                     0\n",
       "Month                           0\n",
       "Name                            0\n",
       "Age                             0\n",
       "SSN                             0\n",
       "Occupation                      0\n",
       "Annual_Income                   0\n",
       "Monthly_Inhand_Salary           0\n",
       "Num_Bank_Accounts               0\n",
       "Num_Credit_Card                 0\n",
       "Interest_Rate                   0\n",
       "Num_of_Loan                     0\n",
       "Type_of_Loan                 2526\n",
       "Delay_from_due_date             0\n",
       "Num_of_Delayed_Payment          0\n",
       "Changed_Credit_Limit            0\n",
       "Num_Credit_Inquiries            0\n",
       "Credit_Mix                      0\n",
       "Outstanding_Debt                0\n",
       "Credit_Utilization_Ratio        0\n",
       "Credit_History_Age_Months       0\n",
       "Payment_of_Min_Amount           0\n",
       "Total_EMI_per_month             0\n",
       "Amount_invested_monthly         0\n",
       "Payment_Behaviour               0\n",
       "Monthly_Balance                 0\n",
       "Credit_Score                    0\n",
       "dtype: int64"
      ]
     },
     "execution_count": 18,
     "metadata": {},
     "output_type": "execute_result"
    }
   ],
   "source": [
    "df.isna().sum() # функция isna проверяет каждую ячейку и возвращает True для ячеек с отсутствующим значением"
   ]
  },
  {
   "cell_type": "code",
   "execution_count": null,
   "metadata": {},
   "outputs": [],
   "source": [
    "# построение графика примера номинативной переменной (Occupation)"
   ]
  },
  {
   "cell_type": "code",
   "execution_count": null,
   "metadata": {},
   "outputs": [],
   "source": [
    "# построение графика примера ранговой переменной (Credit_Score, Credit_mix) \n",
    "\n",
    "# даем каждому Credit_Score, Credit_mix свой ранг и рисуем гистрограмму"
   ]
  },
  {
   "cell_type": "code",
   "execution_count": null,
   "metadata": {},
   "outputs": [],
   "source": [
    "# построение графика примера дискретной переменной (Num_Bank_Accounts)"
   ]
  },
  {
   "cell_type": "code",
   "execution_count": 45,
   "metadata": {},
   "outputs": [
    {
     "data": {
      "text/plain": [
       "Text(0, 0.5, 'People')"
      ]
     },
     "execution_count": 45,
     "metadata": {},
     "output_type": "execute_result"
    },
    {
     "data": {
      "image/png": "[encoded data removed]",
      "text/plain": [
       "<Figure size 640x480 with 1 Axes>"
      ]
     },
     "metadata": {},
     "output_type": "display_data"
    }
   ],
   "source": [
    "# будем исследовать Monthly_Inhand_Salary - непрырвная переменная\n",
    "\n",
    "monthly_salary = df['Monthly_Inhand_Salary']\n",
    "\n",
    "# построим гистограмму\n",
    "plt.hist(monthly_salary, color = 'blue', edgecolor = 'black', bins = int(150/5)) \n",
    "# указываем ширину бина, выраженную в числе бинов\n",
    "# разбивая этот диапазон на 30 интервалов шириной в 5 единиц\n",
    "\n",
    "# добавим название\n",
    "plt.title('Histogram of Monthly Inhand Salary')\n",
    "plt.xlabel('Monthly Inhand Salary($)')\n",
    "plt.ylabel('People')"
   ]
  },
  {
   "cell_type": "code",
   "execution_count": 43,
   "metadata": {},
   "outputs": [
    {
     "name": "stderr",
     "output_type": "stream",
     "text": [
      "C:\\Users\\Mi\\AppData\\Local\\Temp\\ipykernel_13660\\2289773906.py:1: UserWarning: \n",
      "\n",
      "`distplot` is a deprecated function and will be removed in seaborn v0.14.0.\n",
      "\n",
      "Please adapt your code to use either `displot` (a figure-level function with\n",
      "similar flexibility) or `histplot` (an axes-level function for histograms).\n",
      "\n",
      "For a guide to updating your code to use the new functions, please see\n",
      "https://gist.github.com/mwaskom/de44147ed2974457ad6372750bbe5751\n",
      "\n",
      "  sns.distplot(monthly_salary, hist=True, kde=False,\n"
     ]
    },
    {
     "data": {
      "text/plain": [
       "Text(0, 0.5, 'Flights')"
      ]
     },
     "execution_count": 43,
     "metadata": {},
     "output_type": "execute_result"
    },
    {
     "data": {
      "image/png": "[encoded data removed]",
      "text/plain": [
       "<Figure size 640x480 with 1 Axes>"
      ]
     },
     "metadata": {},
     "output_type": "display_data"
    }
   ],
   "source": [
    "\n",
    "sns.distplot(monthly_salary, hist=True, kde=False, \n",
    "             bins=int(150/5), color = 'blue',\n",
    "             hist_kws={'edgecolor':'black'})\n",
    "\n",
    "plt.title('Histogram of Arrival Delays')\n",
    "plt.xlabel('Delay (min)'); plt.ylabel('Flights')"
   ]
  },
  {
   "cell_type": "markdown",
   "metadata": {},
   "source": [
    "__Меры центральной тенденции__:\n",
    "- Мода (mode) – значение измеряемого признака, которое встречается максимально часто.\n",
    "- Медиана (median) – значение признака, которое делит упорядоченное (по\n",
    "возрастанию/убыванию) множество данных пополам. Если в середине 2 значения\n",
    "оказываются в случае с как с четными числами, находится среднее\n",
    "значение этих двух цифр.\n",
    "- Среднее значение – сумма всех значений измеренного признака делится на\n",
    "количество измеренных значений. (очень чуствительна к выбросам)\n",
    "\n",
    "__Унимодальное__ - это распределение имеющее только один максимум (т.е. один 'пик'). Типичный\n",
    "пример - это нормальное распределение  \n",
    "__Бимодальное (мультимодальное)__ - это распределение, котрая имеет два или несколько максимумов  \n",
    "\n",
    "*Симметричное/Ассимтричное распределение (по типу гистограммы)*\n",
    "\n",
    "__Св-ва среднего значения__\n",
    "$$1) M_{x+c} = M_{x} + c$$\n",
    "$$2)M_{x*c} = M_{x} * c$$\n",
    "$$3)\\sum (x_i - M_{x}) = 0$$"
   ]
  },
  {
   "cell_type": "code",
   "execution_count": 46,
   "metadata": {},
   "outputs": [
    {
     "data": {
      "text/plain": [
       "count    23929.00\n",
       "mean      4058.28\n",
       "std       3094.75\n",
       "min        303.65\n",
       "25%       1598.55\n",
       "50%       3004.21\n",
       "75%       5804.05\n",
       "max      15204.63\n",
       "Name: Monthly_Inhand_Salary, dtype: float64"
      ]
     },
     "execution_count": 46,
     "metadata": {},
     "output_type": "execute_result"
    }
   ],
   "source": [
    "# выведем статистические данные об этом столбце для представления распределения\n",
    "monthly_salary.describe().round(2) # round - для округления\n",
    "\n",
    "# Count  —  количество значений.\n",
    "# Mean  —  среднее значение.\n",
    "# Std  —  стандартное отклонение значения.\n",
    "# Min  —  минимальное значение.\n",
    "# Max  —  максимальное значение.\n",
    "# 25%  —  первый квартиль, означающий, что 25% значений в столбце ниже этого значения.\n",
    "# 50%  —  медиана, означающая, что половина значений в столбце ниже этого значения.\n",
    "# 75%  —  третий квартиль, означающий, что 75% значений в столбце ниже этого значения."
   ]
  },
  {
   "cell_type": "code",
   "execution_count": 67,
   "metadata": {},
   "outputs": [
    {
     "data": {
      "text/plain": [
       "Text(0, 0.5, 'People')"
      ]
     },
     "execution_count": 67,
     "metadata": {},
     "output_type": "execute_result"
    },
    {
     "data": {
      "image/png": "[encoded data removed]",
      "text/plain": [
       "<Figure size 640x480 with 1 Axes>"
      ]
     },
     "metadata": {},
     "output_type": "display_data"
    }
   ],
   "source": [
    "# отобразим на гистрограме моду, медиану и среднее значение\n",
    "\n",
    "# Получаем данные о медиане, моде и среднем значении\n",
    "median = np.median(monthly_salary) # можно и через библиотеку scipy\n",
    "mode,_ = scipy.stats.mode(monthly_salary)\n",
    "mean = np.mean(monthly_salary) # можно и через библиотеку scipy\n",
    "# np.nanmedian() и np.nanmean() игнорируются значения NaN\n",
    "\n",
    "# Построение гистограммы\n",
    "plt.hist(monthly_salary, color='gray', edgecolor='black', bins=int(150/5))\n",
    "\n",
    "# Добавляем медиану\n",
    "plt.axvline(median, color='red', linestyle='dashed', linewidth=1)\n",
    "plt.text(median, 2200, 'Median: {:.2f}'.format(median), rotation=90)\n",
    "\n",
    "# Добавляем моду\n",
    "plt.axvline(mode, color='g', linestyle='dashed', linewidth=1)\n",
    "plt.text(mode, 2200, 'Mode: {:.2f}'.format(mode), rotation=90)\n",
    "\n",
    "# Добавляем среднее значение\n",
    "plt.axvline(mean, color='orange', linestyle='dashed', linewidth=1)\n",
    "plt.text(mean, 2200, 'Mean: {:.2f}'.format(mean), rotation=90)\n",
    "\n",
    "plt.title('Histogram of Monthly Inhand Salary')\n",
    "plt.xlabel('Monthly Inhand Salary($)')\n",
    "plt.ylabel('People')\n"
   ]
  },
  {
   "cell_type": "code",
   "execution_count": null,
   "metadata": {},
   "outputs": [],
   "source": [
    "# попробуем ручками посчитать моду, медиану и среднее (собственные функции)\n",
    "# для того, чтобы более глубоко понять, как они работают"
   ]
  },
  {
   "cell_type": "code",
   "execution_count": null,
   "metadata": {},
   "outputs": [],
   "source": [
    "# демонстрация св-в среднего значения"
   ]
  },
  {
   "cell_type": "markdown",
   "metadata": {},
   "source": [
    "__Меры изменчивости__"
   ]
  },
  {
   "cell_type": "code",
   "execution_count": 2,
   "metadata": {},
   "outputs": [
    {
     "name": "stdout",
     "output_type": "stream",
     "text": [
      "Дисперсия: 9.0\n",
      "Среднеквадратичное отклонение: 3.0\n"
     ]
    }
   ],
   "source": [
    "\n",
    "import math\n",
    "\n",
    "def calculate_variance(data):\n",
    "    n = len(data)\n",
    "    mean = sum(data) / n\n",
    "    variance = sum((x - mean) ** 2 for x in data) / n\n",
    "    return variance\n",
    "\n",
    "def calculate_standard_deviation(variance):\n",
    "    return math.sqrt(variance)\n",
    "\n",
    "# Пример использования:\n",
    "data = [1, 5, 2, 7, 1, 9, 3, 8, 5, 9]\n",
    "variance = calculate_variance(data)\n",
    "standard_deviation = calculate_standard_deviation(variance)\n",
    "\n",
    "print(\"Дисперсия:\", variance)\n",
    "print(\"Среднеквадратичное отклонение:\", standard_deviation)\n",
    "\n",
    "\n"
   ]
  }
 ],
 "metadata": {
  "kernelspec": {
   "display_name": "Python 3",
   "language": "python",
   "name": "python3"
  },
  "language_info": {
   "codemirror_mode": {
    "name": "ipython",
    "version": 3
   },
   "file_extension": ".py",
   "mimetype": "text/x-python",
   "name": "python",
   "nbconvert_exporter": "python",
   "pygments_lexer": "ipython3",
   "version": "3.11.8"
  }
 },
 "nbformat": 4,
 "nbformat_minor": 2
}
